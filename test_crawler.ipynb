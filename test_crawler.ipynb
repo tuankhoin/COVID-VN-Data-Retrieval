{
 "metadata": {
  "language_info": {
   "codemirror_mode": {
    "name": "ipython",
    "version": 3
   },
   "file_extension": ".py",
   "mimetype": "text/x-python",
   "name": "python",
   "nbconvert_exporter": "python",
   "pygments_lexer": "ipython3",
   "version": "3.6.8"
  },
  "orig_nbformat": 2,
  "kernelspec": {
   "name": "python368jvsc74a57bd04621005da5c26ac209901ca167bf25025457b064ec855aea9ba97365ac8d4984",
   "display_name": "Python 3.6.8 64-bit"
  }
 },
 "nbformat": 4,
 "nbformat_minor": 2,
 "cells": [
  {
   "cell_type": "code",
   "execution_count": 1,
   "metadata": {},
   "outputs": [],
   "source": [
    "import scrapy\n",
    "import logging\n",
    "import pandas as pd\n",
    "from datetime import date\n",
    "from scrapy.crawler import CrawlerProcess\n",
    "from scrapy.utils.project import get_project_settings"
   ]
  },
  {
   "cell_type": "code",
   "execution_count": 2,
   "metadata": {},
   "outputs": [],
   "source": [
    "class PatientSpider(scrapy.Spider):\n",
    "    name = \"patient_check\"\n",
    "    start_urls = ['https://ncov.moh.gov.vn/web/guest/trang-chu']\n",
    "    rows = []\n",
    "    out = 'MOH_PaitentTable_' + date.today().strftime(\"%d_%m\") + '.csv'\n",
    "\n",
    "    def __init__(self):\n",
    "        logging.getLogger('scrapy').propagate = False\n",
    "\n",
    "    def close(self, reason):\n",
    "        df_out = pd.DataFrame(self.rows)\n",
    "        df_out.to_csv(self.out,index=False)\n",
    "        print(\"Hoàn tất. Dữ liệu đã được xuất ra file \" + self.out)\n",
    "\n",
    "    def parse(self, response):\n",
    "        for patient in response.xpath('//*[@class=\"table table-striped table-covid19\"]//tbody/tr'):\n",
    "            p_dict={'BN': patient.xpath('td[1]//text()').extract_first(),\n",
    "                    'Age': patient.xpath('td[2]//text()').extract_first(),\n",
    "                    'Location': patient.xpath('td[3]//text()').extract_first(),\n",
    "                    'Status': patient.xpath('td[4]//text()').extract_first(),\n",
    "                    'Nationality': patient.xpath('td[5]//text()').extract_first()}\n",
    "            self.rows += [p_dict]"
   ]
  },
  {
   "cell_type": "code",
   "execution_count": 3,
   "metadata": {
    "tags": []
   },
   "outputs": [
    {
     "output_type": "stream",
     "name": "stderr",
     "text": [
      "2021-05-23 17:55:32 [scrapy.utils.log] INFO: Scrapy 2.5.0 started (bot: scrapybot)\n",
      "2021-05-23 17:55:32 [scrapy.utils.log] INFO: Versions: lxml 4.5.1.0, libxml2 2.9.5, cssselect 1.1.0, parsel 1.6.0, w3lib 1.22.0, Twisted 21.2.0, Python 3.6.8 (tags/v3.6.8:3c6b436a57, Dec 24 2018, 00:16:47) [MSC v.1916 64 bit (AMD64)], pyOpenSSL 20.0.1 (OpenSSL 1.1.1k  25 Mar 2021), cryptography 3.4.7, Platform Windows-10-10.0.19041-SP0\n",
      "2021-05-23 17:55:32 [scrapy.utils.log] DEBUG: Using reactor: twisted.internet.selectreactor.SelectReactor\n",
      "2021-05-23 17:55:32 [scrapy.crawler] INFO: Overridden settings:\n",
      "{}\n",
      "2021-05-23 17:55:32 [scrapy.extensions.telnet] INFO: Telnet Password: eb4eb34f9bdf46f7\n",
      "2021-05-23 17:55:32 [scrapy.middleware] INFO: Enabled extensions:\n",
      "['scrapy.extensions.corestats.CoreStats',\n",
      " 'scrapy.extensions.telnet.TelnetConsole',\n",
      " 'scrapy.extensions.logstats.LogStats']\n",
      "Đang trích xuất dữ liệu, xin đợi trong giây lát: 100%|██████████| 5141/5141 [00:01<00:00, 4918.78it/s]\n"
     ]
    }
   ],
   "source": [
    "process = CrawlerProcess(get_project_settings())\n",
    "process.crawl(PatientSpider)\n",
    "process.start()"
   ]
  },
  {
   "cell_type": "code",
   "execution_count": null,
   "metadata": {},
   "outputs": [],
   "source": []
  }
 ]
}