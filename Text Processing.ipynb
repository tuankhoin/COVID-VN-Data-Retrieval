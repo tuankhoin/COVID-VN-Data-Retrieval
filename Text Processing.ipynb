{
 "cells": [
  {
   "cell_type": "code",
   "execution_count": 106,
   "metadata": {},
   "outputs": [],
   "source": [
    "import pandas as pd\n",
    "import numpy as np\n",
    "from datetime import date\n",
    "import os\n",
    "import re\n",
    "import unicodedata as ud"
   ]
  },
  {
   "cell_type": "code",
   "execution_count": 2,
   "metadata": {},
   "outputs": [
    {
     "output_type": "stream",
     "name": "stdout",
     "text": [
      "- CA BỆNH BN3594 ghi nhận tại Thành phố Hà Nội: Bệnh nhân nữ, 8 tuổi, địa chỉ tại huyện Đông Anh, Thành phố Hà Nội; là F1 liên quan tới ổ dịch cũ, đã được cách ly.\n- CA BỆNH BN3595 ghi nhận tại Thành phố Hà Nội: Bệnh nhân nữ, 59 tuổi, địa chỉ tại thị xã Kim Bảng, tỉnh Hà Nam; là F1 liên quan tới ổ dịch cũ, đã được cách ly.\n- CA BỆNH BN3596 ghi nhận tại Thành phố Hà Nội: Bệnh nhân nam, 41 tuổi, địa chỉ tại huyện Thường Tín, Thành phố Hà Nội; là F1 liên quan tới ổ dịch cũ, đã được cách ly.\n- CA BỆNH BN3597 ghi nhận tại Thành phố Hà Nội: Bệnh nhân nam, 38 tuổi, địa chỉ tại thành phố Thái Nguyên, tỉnh Thái Nguyên; là F1 liên quan tới ổ dịch cũ, đã được cách ly.\n- CA BỆNH BN3598 ghi nhận tại Thành phố Hà Nội: Bệnh nhân nữ, 20 tuổi, địa chỉ tại huyện Phúc Thọ, Thành phố Hà Nội; là F1 liên quan tới ổ dịch cũ, đã được cách ly.\n- CA BỆNH BN3609 ghi nhận tại Thành phố Hà Nội: Bệnh nhân nữ, 66 tuổi, địa chỉ tại huyện Yên Lạc, tỉnh Vĩnh Phúc; là F1 liên quan tới ổ dịch cũ, đã được cách ly.\n- CA BỆNH BN3623 ghi nhận tại Thành phố Hà Nội: Bệnh nhân nữ, 68 tuổi, địa chỉ tại quận Đống Đa, Thành phố Hà Nội; là F1 liên quan tới ổ dịch cũ, đã được cách ly.\n- CA BỆNH BN3599-BN3608, BN3610-BN3619 ghi nhận tại Thành phố Đà Nẵng; là F1 liên quan tới ổ dịch cũ, đã được cách ly. Kết quả xét nghiệm ngày 11-12/5/2021 bệnh nhân dương tính với SARS-CoV-2. Hiện các bệnh nhân đang được cách ly, điều trị tại Bệnh viện Phổi Đà Nẵng. \n- CA BỆNH BN3620-BN3621 ghi nhận tại tỉnh Bắc Giang; liên quan đến ổ dịch CTY SJ Tech, đã được cách ly tập trung. Kết quả xét nghiệm ngày 12/5/2021 các bệnh nhân dương tính với SARS-CoV-2. Hiện các bệnh nhân đang được cách ly, điều trị tại Bệnh viện dã chiến Bắc Giang. \n- CA BỆNH BN3622 ghi nhận tại tỉnh Phú Thọ: Bệnh nhân nữ, 59 tuổi, địa chỉ tại thành phố Việt Trì, tỉnh Phú Thọ; là F1 của BN3116, đã được cách ly. Kết quả xét nghiệm ngày 12/5/2021 các bệnh nhân dương tính với SARS-CoV-2. Hiện bệnh nhân đang được cách ly, điều trị tại Bệnh viện dã chiến tỉnh Phú Thọ.\n- CA BỆNH BN3586 cách ly ngay sau khi nhập cảnh tại tỉnh Bà Rịa - Vũng Tàu: Bệnh nhân nam, 31 tuổi, là công dân Việt Nam, địa chỉ tại huyện Đô Lương, tỉnh Nghệ An.\n- CA BỆNH BN3587 cách ly ngay sau khi nhập cảnh tại tỉnh Bà Rịa - Vũng Tàu: Bệnh nhân nam, 28 tuổi, là công dân Việt Nam, địa chỉ tại huyện Gia Lộc, tỉnh Hải Dương.\n- CA BỆNH BN3588 cách ly ngay sau khi nhập cảnh tại tỉnh Bà Rịa - Vũng Tàu: Bệnh nhân nam, 23 tuổi, là công dân Việt Nam, địa chỉ tại thị xã Quảng Yên, tỉnh Quảng Ninh.\n- CA BỆNH BN3572-BN3574, BN3577-BN3582 ghi nhận tại tỉnh Bắc Giang; liên quan đến ổ dịch CTY SJ Tech, đã được cách ly tập trung. Kết quả xét nghiệm ngày 11-12/5/2021 các bệnh nhân dương tính với SARS-CoV-2. Hiện các bệnh nhân đang được cách ly, điều trị tại Bệnh viện dã chiến Bắc Giang. \n- CA BỆNH BN3575-BN3576 ghi nhận tại Bệnh viện Bệnh nhiệt đới Trung ương cơ sở Đông Anh (1 bệnh nhân và 1 người nhà bệnh nhân đã được cách ly trong bệnh viện). \n- CA BỆNH BN3583 ghi nhận tại Hà Nam: Bệnh nhân nữ, 29 tuổi, địa chỉ tại thành phố Phủ Lý, tỉnh Hà Nam. Ngày 29/04/2021, bệnh nhân từ Đà Nẵng di chuyển đến Sân bay Nội bài trên chuyến bay VN160. Ngày 02/05/2021, sau khi có thông tin về trường hợp dương tính trên cùng chuyến bay, bệnh nhân đã chủ động khai báo y tế và cách ly tập trung tại tỉnh Hà Nam. Kết quả xét nghiệm ngày 11/5/2021 dương tính với SARS-CoV-2. Hiện bệnh nhân đang được cách ly, điều trị tại Bệnh viện Bệnh Nhiệt đới Trung ương cơ sở Đông Anh. \n- CA BỆNH BN3584 ghi nhận tại tỉnh Thái Bình: Bệnh nhân nữ, 37 tuổi, địa chỉ tại huyện Quỳnh Phụ, tỉnh Thái Bình; là F1 với BN3192, đã được cách ly tập trung từ trước. Kết quả xét nghiệm ngày 11/5/2021 bệnh nhân dương tính với SARS-CoV-2. Hiện bệnh nhân đang được cách ly, điều trị tại Bệnh viện Đa khoa tỉnh Thái Bình.\n- CA BỆNH BN3585 ghi nhận tại tỉnh Hưng Yên: Bệnh nhân nam, 16 tuổi, địa chỉ tại huyện Phú Lộc, tỉnh Thừa Thiên Huế; là F1 của BN3450, BN3451, đã được cách ly tập trung từ trước. Kết quả xét nghiệm ngày 12/5/2021 bệnh nhân dương tính với SARS-CoV-2. Hiện bệnh nhân đang được cách ly, điều trị tại Bệnh viện Bệnh Nhiệt đới Trung ương cơ sở Đông Anh. \n- CA BỆNH BN3589-BN3593 ghi nhận tại tỉnh Bắc Ninh; F1 liên quan tới ổ dịch cũ, đã được cách ly tập trung từ trước. Kết quả xét nghiệm ngày 11/5/2021 các bệnh nhân dương tính với SARS-CoV-2.\n- CA BỆNH BN3548 cách ly ngay sau khi nhập cảnh tại Thành phố Đà Nẵng: Bệnh nhân nam, 24 tuổi, là công dân Việt Nam, địa chỉ tại huyện Cẩm Giàng, tỉnh Hải Dương. Ngày 21/4/2021, bệnh nhân từ Nga nhập cảnh Sân bay Đà Nẵng trên chuyến bay VN5062 và được cách ly ngay sau khi nhập cảnh tại Thành phố Đà Nẵng. Kết quả xét nghiệm ngày 10/5/2021 dương tính với SAR-CoV-2. Hiện bệnh nhân đang được cách ly, điều trị tại Bệnh viện Phổi Đà Nẵng.\n- CA BỆNH BN3538 ghi nhận tại tỉnh Nam Định: Bệnh nhân nam, 12 tuổi, địa chỉ tại huyện Trực Ninh, tỉnh Nam Định; là F1 của BN3126. Bệnh nhân trên đã được cách ly tập trung từ trước. Kết quả xét nghiệm ngày 11/5/2021 bệnh nhân dương tính với SARS-CoV-2. Hiện bệnh nhân được cách ly, điều trị tại Trung tâm Y tế huyện Trực Ninh.\n- CA BỆNH BN3539, BN3542, BN3550, BN3558, BN3560, BN3571 ghi nhận tại tỉnh Bắc Giang; đều liên quan đến ổ dịch CTY SJ Tech trước đó. Kết quả xét nghiệm ngày 11/5/2021 bệnh nhân dương tính với SARS-CoV-2. Hiện các bệnh nhân đang được cách ly, điều trị tại Bệnh viện dã chiến Bắc Giang.\n- CA BỆNH BN3540- BN3541, BN3543-BN3547 ghi nhận tại Thành phố Đà Nẵng; là F1 liên quan tới ổ dịch cũ, đã được cách ly, đang tiếp tục điều tra dich tễ mở rộng. Kết quả xét nghiệm ngày 09/5/2021 các bệnh nhân dương tính với SARS-CoV-2.\n- CA BỆNH BN3549 ghi nhận tại tỉnh Lạng Sơn. Bệnh nhân nữ, 33 tuổi, địa chỉ tại huyện Tràng Định, tỉnh Lạng Sơn; có tiền sử đi về xã Mão Điền, huyện Thuận Thành, tỉnh Bắc Ninh đã chủ động đi khai báo y tế. Kết quả xét nghiệm ngày 11/5/2021 bệnh nhân dương tính với SARS-CoV-2. Hiện bệnh nhân đang được cách ly, điều trị tại Bệnh viện Bệnh nhiệt đới Trung ương cơ sở Đông Anh.\n- CA BỆNH BN3555-BN3557, BN3559, BN3561-BN3569 ghi nhận tại tỉnh Vĩnh Phúc; đều liên quan đến ổ dịch quán Bar Sunny. Các bệnh nhân trên đã được cách ly tập trung từ trước. Kết quả xét nghiệm ngày 10/5/2021 bệnh nhân dương tính với SARS-CoV-2. Hiện các bệnh nhân đang được cách ly, điều trị tại Bệnh viện dã chiến tỉnh Vĩnh Phúc.\n- CA BỆNH BN3551-BN3554 ghi nhận tại Bệnh viện Bệnh nhiệt đới Trung ương cơ sở Đông Anh (2 nhân viên y tế và 2 bệnh nhân đã được cách ly trong bệnh viện).\n- CA BỆNH BN3570 ghi nhận tại Thành phố Hà Nội: là F1 của BN3093. Kết quả xét nghiệm ngày 11/5/2021 bệnh nhân dương tính với SARS-CoV-2.\n"
     ]
    },
    {
     "output_type": "execute_result",
     "data": {
      "text/plain": [
       "[None,\n",
       " None,\n",
       " None,\n",
       " None,\n",
       " None,\n",
       " None,\n",
       " None,\n",
       " None,\n",
       " None,\n",
       " None,\n",
       " None,\n",
       " None,\n",
       " None,\n",
       " None,\n",
       " None,\n",
       " None,\n",
       " None,\n",
       " None,\n",
       " None,\n",
       " None,\n",
       " None,\n",
       " None,\n",
       " None,\n",
       " None,\n",
       " None,\n",
       " None,\n",
       " None]"
      ]
     },
     "metadata": {},
     "execution_count": 2
    }
   ],
   "source": [
    "with open('1205.txt','r',encoding='utf8') as file:\n",
    "    text = ud.normalize('NFC',file.read()).split('\\n')\n",
    "\n",
    "script1 = [bn for bn in text if 'ca bệnh' in bn[:15].lower()]\n",
    "[print(bn) for bn in script1]"
   ]
  },
  {
   "cell_type": "code",
   "execution_count": 3,
   "metadata": {},
   "outputs": [],
   "source": [
    "patients = pd.DataFrame(columns=['id','sex','age','cbyt','thon','phuong','huyen','tp','quoctich','cluster','source','date','dieutri','group'])"
   ]
  },
  {
   "cell_type": "code",
   "execution_count": 127,
   "metadata": {},
   "outputs": [],
   "source": [
    "def get_id(bn):\n",
    "    ids = re.findall(r'BN\\w+-BN\\w+|BN\\w+',bn)\n",
    "    ids = [i.replace('BN','') for i in ids]\n",
    "\n",
    "    id_list = []\n",
    "    for i in ids:\n",
    "        numeric_ids = i.split('-')\n",
    "        if len(numeric_ids)==2:\n",
    "            id_list += list(np.arange(int(numeric_ids[0]),int(numeric_ids[1])+1))\n",
    "        else:\n",
    "            id_list.append(int(numeric_ids[0]))\n",
    "    # Phòng việc nhầm mã với BN F0 (ví dụ: 'F1 của BN69'), thì chỉ nhận số bệnh nhân theo thứ tự tăng dần, \n",
    "    # vì chắc chắc không ai liệt kê kiểu đi lùi hay 'bn50 là f1 của bn49' cả\n",
    "    return [id_list[0]]+[id_list[i] for i in range(1,len(id_list)) if id_list[i-1]<id_list[i]]"
   ]
  },
  {
   "cell_type": "code",
   "execution_count": 122,
   "metadata": {},
   "outputs": [],
   "source": [
    "# nếu từ nam với nữ trùng địa danh (Hà Nam, Nữ Oa,...), việc chỉ lọc chữ thường sẽ giúp bỏ được các trường hợp trên \n",
    "get_sex = lambda bn: 'Nữ' if 'nữ' in bn else 'Nam' if 'nam' in bn else np.nan\n",
    "\n",
    "def get_age(bn):\n",
    "    kw = re.findall(r'[0-9]+ tuổi',bn)\n",
    "    if not kw:\n",
    "        return np.nan\n",
    "    return re.search(r'[0-9]+',kw[0]).group()\n",
    "    \n",
    "get_cbyt = lambda bn: int('cán bộ y tế' in bn or 'nhân viên y tế' in bn.lower())"
   ]
  },
  {
   "cell_type": "code",
   "execution_count": 113,
   "metadata": {},
   "outputs": [],
   "source": [
    "def get_location(don_vi_hanh_chinh, bn):\n",
    "    regex_loc = re.compile('|'.join([kw.upper()+' (.*?)'+stop for kw in ['địa chỉ'] for stop in ['\\\\.',';',':']]))\n",
    "    loc_array = re.findall(regex_loc, bn.upper())\n",
    "    if not loc_array:\n",
    "        return np.nan \n",
    "    bn_loc = ''.join(loc_array[0])+'.'\n",
    "\n",
    "    regex = re.compile('|'.join([don_vi_hanh_chinh.upper()+' (.*?)'+stop for stop in [',','\\\\.',';',':']]))\n",
    "    # Nếu ghi nhận 2 địa điểm thì chọn địa điểm đầu, vì sẽ nêu địa chỉ trước lịch sử di chuyển\n",
    "    loc_array = re.findall(regex, bn_loc)\n",
    "    if not loc_array:\n",
    "        return np.nan \n",
    "    loc_text = ''.join(loc_array[0])\n",
    "    loc = re.split(r';|,|\\.|:',loc_text)\n",
    "    return loc[0]"
   ]
  },
  {
   "cell_type": "code",
   "execution_count": 104,
   "metadata": {},
   "outputs": [],
   "source": [
    "def get_quoctich(bn):\n",
    "    regex = re.compile('|'.join(['quốc tịch'+' (.*?)'+stop for stop in [',','\\\\.',';',':']]))\n",
    "    loc_array = re.findall(regex, bn.lower())\n",
    "    if not loc_array:\n",
    "        return 'Việt Nam' \n",
    "    loc_text = ''.join(loc_array[0])\n",
    "    loc = re.split(r';|,|\\.|:',loc_text)\n",
    "    return loc[0]\n",
    "#get_quoctich()"
   ]
  },
  {
   "cell_type": "code",
   "execution_count": 85,
   "metadata": {},
   "outputs": [],
   "source": [
    "def get_cluster_source(bn):\n",
    "    if 'điều trị tại Bệnh viện Bệnh nhiệt đới Trung ương cơ sở Đông Anh'.lower() not in bn.lower() and 'nhiệt đới Trung ương cơ sở Đông Anh'.lower() in bn.lower():\n",
    "        return 'Bệnh viện Bệnh nhiệt đới Trung ương cơ sở Đông Anh', 'BV'\n",
    "    elif 'nhập cảnh'.lower() in bn.lower():\n",
    "        return 'Nhập cảnh','Nhập cảnh'\n",
    "    regex = re.compile('|'.join([kw+' (.*?)'+stop for kw in ['F1',ud.normalize('NFC','Ổ DỊCH')] for stop in [',','\\\\.',';',':']]))\n",
    "    loc_array = re.findall(regex, ud.normalize('NFC',bn.upper()))\n",
    "    if not loc_array:\n",
    "        return np.nan, np.nan\n",
    "    loc_text = ''.join(loc_array[0])\n",
    "    loc = re.split(r';|,|\\.|:',loc_text)[0]\n",
    "    normalized_loc = ud.normalize('NFC',loc)\n",
    "    rm_words = [ud.normalize('NFC',w) for w in ['CỦA ','VỚI ','LIÊN QUAN ', 'TỚI ', 'ĐẾN ', ' TRƯỚC ĐÓ']]\n",
    "    for w in rm_words:\n",
    "        normalized_loc = normalized_loc.replace(w,'') \n",
    "    return normalized_loc,'Tiếp xúc gần/Đi qua vùng dịch'\n",
    "\n",
    "get_group = lambda bn: 'Nhập cảnh' if 'nhập cảnh'.lower() in bn.lower() else 'CỘng đồng'"
   ]
  },
  {
   "cell_type": "code",
   "execution_count": 87,
   "metadata": {},
   "outputs": [],
   "source": [
    "def get_dieutri(bn):\n",
    "    regex = re.compile('|'.join(['điều trị tại'+' (.*?)'+stop for stop in [',','\\\\.',';',':']]))\n",
    "    loc_array = re.findall(regex, bn)\n",
    "    if not loc_array:\n",
    "        return np.nan\n",
    "    loc_text = ''.join(loc_array[0])\n",
    "    loc = re.split(r';|,|\\.|:',loc_text)\n",
    "    return loc[0]"
   ]
  },
  {
   "cell_type": "code",
   "execution_count": 129,
   "metadata": {},
   "outputs": [],
   "source": [
    "#[get_id(bn) for bn in script1]"
   ]
  },
  {
   "cell_type": "code",
   "execution_count": 130,
   "metadata": {},
   "outputs": [],
   "source": [
    "def add_patient_info(bn, date = date.today().strftime('%d/%m/%Y')):\n",
    "    code = get_id(bn)\n",
    "    sex = get_sex(bn)\n",
    "    age = get_age(bn)\n",
    "    cbyt = get_cbyt(bn)\n",
    "\n",
    "    thon = get_location('thôn',bn)\n",
    "    if pd.isnull(thon):\n",
    "        thon = get_location('ấp',bn)\n",
    "\n",
    "    phuong = get_location('phường',bn)\n",
    "    if pd.isnull(phuong):\n",
    "        phuong = get_location('xã',bn)\n",
    "\n",
    "    huyen = get_location('huyện',bn)\n",
    "    if pd.isnull(huyen):\n",
    "        huyen = get_location('quận',bn)\n",
    "\n",
    "    tp = get_location('thành phố',bn)\n",
    "    if pd.isnull(tp):\n",
    "        tp = get_location('tỉnh',bn)\n",
    "\n",
    "    quoctich = get_quoctich(bn)\n",
    "    cluster,source = get_cluster_source(bn)\n",
    "    dieutri = get_dieutri(bn)\n",
    "    group = get_group(bn)\n",
    "\n",
    "    return [{'PatientCode':c, 'Giời tính':sex, 'Tuổi':age, 'CBYT':cbyt,\n",
    "             'Thôn/Ấp':thon, 'Xã/Phường':phuong, 'Quận/Huyện':huyen, 'TP/Tỉnh':tp, \n",
    "             'Quốc tịch':quoctich, 'Cluster':cluster, 'Nguồn lây':source,\n",
    "             'Ngày thông báo':date, 'Nơi điều trị':dieutri, 'Nhóm':group} for c in code]"
   ]
  },
  {
   "cell_type": "code",
   "execution_count": 138,
   "metadata": {},
   "outputs": [],
   "source": [
    "def process_bn(text_file, output = 'output.csv', date = date.today().strftime('%d/%m/%Y')):\n",
    "    with open(text_file,'r',encoding='utf8') as file:\n",
    "        text = ud.normalize('NFC',file.read()).split('\\n')\n",
    "\n",
    "    script1 = [bn for bn in text if 'ca bệnh' in bn[:15].lower()]\n",
    "\n",
    "    rows=[]\n",
    "    for bn in script1:\n",
    "        rows += add_patient_info(bn,date)\n",
    "\n",
    "    df_out = pd.DataFrame(rows)\n",
    "    df_out.to_csv(output,index=False)"
   ]
  },
  {
   "cell_type": "code",
   "execution_count": 139,
   "metadata": {},
   "outputs": [],
   "source": [
    "process_bn('1205.txt','1205.csv')\n",
    "process_bn('0505.txt','0505.csv')"
   ]
  }
 ],
 "metadata": {
  "kernelspec": {
   "name": "python368jvsc74a57bd04621005da5c26ac209901ca167bf25025457b064ec855aea9ba97365ac8d4984",
   "display_name": "Python 3.6.8 64-bit"
  },
  "language_info": {
   "codemirror_mode": {
    "name": "ipython",
    "version": 3
   },
   "file_extension": ".py",
   "mimetype": "text/x-python",
   "name": "python",
   "nbconvert_exporter": "python",
   "pygments_lexer": "ipython3",
   "version": "3.6.8"
  }
 },
 "nbformat": 4,
 "nbformat_minor": 4
}