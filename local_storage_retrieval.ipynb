{
 "cells": [
  {
   "cell_type": "code",
   "execution_count": 1,
   "source": [
    "import json\r\n",
    "import pandas as pd\r\n",
    "\r\n",
    "# Phải có Firefox trong máy mới chạy được script này nhá\r\n",
    "from selenium import webdriver\r\n",
    "from webdriver_manager.firefox import GeckoDriverManager"
   ],
   "outputs": [],
   "metadata": {}
  },
  {
   "cell_type": "code",
   "execution_count": 2,
   "source": [
    "driver = webdriver.Firefox(executable_path=GeckoDriverManager().install()) \r\n",
    "url='https://tiemchungcovid19.gov.vn/portal'\r\n",
    "driver.get(url)\r\n",
    "\r\n",
    "result = driver.execute_script(\"return window.localStorage.getItem('mapDataCountryLevel');\")"
   ],
   "outputs": [
    {
     "output_type": "stream",
     "name": "stderr",
     "text": [
      "\n",
      "\n",
      "====== WebDriver manager ======\n",
      "Current firefox version is 90.0.2\n",
      "Get LATEST driver version for 90.0.2\n",
      "Driver [C:\\SPB_Data\\.wdm\\drivers\\geckodriver\\win64\\v0.29.1\\geckodriver.exe] found in cache\n"
     ]
    }
   ],
   "metadata": {}
  },
  {
   "cell_type": "code",
   "execution_count": 7,
   "source": [
    "data = json.loads(result)\r\n",
    "with open('vaccination_data.json','w',encoding='utf-8') as f:\r\n",
    "    json.dump(data,f,ensure_ascii=False)\r\n",
    "\r\n",
    "df = pd.DataFrame.from_dict(data)\r\n",
    "df.to_csv('vaccination.csv')"
   ],
   "outputs": [],
   "metadata": {}
  }
 ],
 "metadata": {
  "orig_nbformat": 4,
  "language_info": {
   "name": "python",
   "version": "3.6.8",
   "mimetype": "text/x-python",
   "codemirror_mode": {
    "name": "ipython",
    "version": 3
   },
   "pygments_lexer": "ipython3",
   "nbconvert_exporter": "python",
   "file_extension": ".py"
  },
  "kernelspec": {
   "name": "python3",
   "display_name": "Python 3.6.8 64-bit"
  },
  "interpreter": {
   "hash": "4621005da5c26ac209901ca167bf25025457b064ec855aea9ba97365ac8d4984"
  }
 },
 "nbformat": 4,
 "nbformat_minor": 2
}